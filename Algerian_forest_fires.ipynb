{
 "cells": [
  {
   "cell_type": "markdown",
   "id": "755f6c70",
   "metadata": {},
   "source": [
    "# EDA - Exploratory Data Analysis"
   ]
  },
  {
   "cell_type": "markdown",
   "id": "cfbe86c4",
   "metadata": {},
   "source": [
    "## importing important libraries"
   ]
  },
  {
   "cell_type": "code",
   "execution_count": 1,
   "id": "3759213b",
   "metadata": {},
   "outputs": [],
   "source": [
    "import pandas as pd\n",
    "import numpy as np\n",
    "import matplotlib.pyplot as plt\n",
    "import seaborn as sns\n",
    "import plotly.express as px\n",
    "import warnings\n",
    "from six.moves import urllib\n",
    "\n",
    "warnings.filterwarnings(\"ignore\")\n",
    "\n",
    "%matplotlib inline"
   ]
  },
  {
   "cell_type": "markdown",
   "id": "d5dbb960",
   "metadata": {},
   "source": [
    "## Reading Algerian dataset"
   ]
  },
  {
   "cell_type": "code",
   "execution_count": 2,
   "id": "043b0d2b",
   "metadata": {},
   "outputs": [
    {
     "data": {
      "text/html": [
       "<div>\n",
       "<style scoped>\n",
       "    .dataframe tbody tr th:only-of-type {\n",
       "        vertical-align: middle;\n",
       "    }\n",
       "\n",
       "    .dataframe tbody tr th {\n",
       "        vertical-align: top;\n",
       "    }\n",
       "\n",
       "    .dataframe thead th {\n",
       "        text-align: right;\n",
       "    }\n",
       "</style>\n",
       "<table border=\"1\" class=\"dataframe\">\n",
       "  <thead>\n",
       "    <tr style=\"text-align: right;\">\n",
       "      <th></th>\n",
       "      <th>day</th>\n",
       "      <th>month</th>\n",
       "      <th>year</th>\n",
       "      <th>Temperature</th>\n",
       "      <th>RH</th>\n",
       "      <th>Ws</th>\n",
       "      <th>Rain</th>\n",
       "      <th>FFMC</th>\n",
       "      <th>DMC</th>\n",
       "      <th>DC</th>\n",
       "      <th>ISI</th>\n",
       "      <th>BUI</th>\n",
       "      <th>FWI</th>\n",
       "      <th>Classes</th>\n",
       "    </tr>\n",
       "  </thead>\n",
       "  <tbody>\n",
       "    <tr>\n",
       "      <th>0</th>\n",
       "      <td>01</td>\n",
       "      <td>06</td>\n",
       "      <td>2012</td>\n",
       "      <td>29</td>\n",
       "      <td>57</td>\n",
       "      <td>18</td>\n",
       "      <td>0</td>\n",
       "      <td>65.7</td>\n",
       "      <td>3.4</td>\n",
       "      <td>7.6</td>\n",
       "      <td>1.3</td>\n",
       "      <td>3.4</td>\n",
       "      <td>0.5</td>\n",
       "      <td>not fire</td>\n",
       "    </tr>\n",
       "    <tr>\n",
       "      <th>1</th>\n",
       "      <td>02</td>\n",
       "      <td>06</td>\n",
       "      <td>2012</td>\n",
       "      <td>29</td>\n",
       "      <td>61</td>\n",
       "      <td>13</td>\n",
       "      <td>1.3</td>\n",
       "      <td>64.4</td>\n",
       "      <td>4.1</td>\n",
       "      <td>7.6</td>\n",
       "      <td>1</td>\n",
       "      <td>3.9</td>\n",
       "      <td>0.4</td>\n",
       "      <td>not fire</td>\n",
       "    </tr>\n",
       "    <tr>\n",
       "      <th>2</th>\n",
       "      <td>03</td>\n",
       "      <td>06</td>\n",
       "      <td>2012</td>\n",
       "      <td>26</td>\n",
       "      <td>82</td>\n",
       "      <td>22</td>\n",
       "      <td>13.1</td>\n",
       "      <td>47.1</td>\n",
       "      <td>2.5</td>\n",
       "      <td>7.1</td>\n",
       "      <td>0.3</td>\n",
       "      <td>2.7</td>\n",
       "      <td>0.1</td>\n",
       "      <td>not fire</td>\n",
       "    </tr>\n",
       "    <tr>\n",
       "      <th>3</th>\n",
       "      <td>04</td>\n",
       "      <td>06</td>\n",
       "      <td>2012</td>\n",
       "      <td>25</td>\n",
       "      <td>89</td>\n",
       "      <td>13</td>\n",
       "      <td>2.5</td>\n",
       "      <td>28.6</td>\n",
       "      <td>1.3</td>\n",
       "      <td>6.9</td>\n",
       "      <td>0</td>\n",
       "      <td>1.7</td>\n",
       "      <td>0</td>\n",
       "      <td>not fire</td>\n",
       "    </tr>\n",
       "    <tr>\n",
       "      <th>4</th>\n",
       "      <td>05</td>\n",
       "      <td>06</td>\n",
       "      <td>2012</td>\n",
       "      <td>27</td>\n",
       "      <td>77</td>\n",
       "      <td>16</td>\n",
       "      <td>0</td>\n",
       "      <td>64.8</td>\n",
       "      <td>3</td>\n",
       "      <td>14.2</td>\n",
       "      <td>1.2</td>\n",
       "      <td>3.9</td>\n",
       "      <td>0.5</td>\n",
       "      <td>not fire</td>\n",
       "    </tr>\n",
       "  </tbody>\n",
       "</table>\n",
       "</div>"
      ],
      "text/plain": [
       "  day month  year Temperature  RH  Ws Rain   FFMC  DMC    DC  ISI  BUI  FWI  \\\n",
       "0  01    06  2012          29  57  18     0  65.7  3.4   7.6  1.3  3.4  0.5   \n",
       "1  02    06  2012          29  61  13   1.3  64.4  4.1   7.6    1  3.9  0.4   \n",
       "2  03    06  2012          26  82  22  13.1  47.1  2.5   7.1  0.3  2.7  0.1   \n",
       "3  04    06  2012          25  89  13   2.5  28.6  1.3   6.9    0  1.7    0   \n",
       "4  05    06  2012          27  77  16     0  64.8    3  14.2  1.2  3.9  0.5   \n",
       "\n",
       "     Classes    \n",
       "0  not fire     \n",
       "1  not fire     \n",
       "2  not fire     \n",
       "3  not fire     \n",
       "4  not fire     "
      ]
     },
     "execution_count": 2,
     "metadata": {},
     "output_type": "execute_result"
    }
   ],
   "source": [
    "data=pd.read_csv('Algerian_forest_fires_dataset_UPDATE.csv',header=1)\n",
    "data.head()"
   ]
  },
  {
   "cell_type": "code",
   "execution_count": 3,
   "id": "a87c5410",
   "metadata": {},
   "outputs": [],
   "source": [
    "# data[0:122] -->> Bejaia Region Dataset\n",
    "# data[122:124] -->> useless rows so we will drop row number 122 & 123\n",
    "# data[124:246] --->>Sidi-Bel Abbes Region Dataset"
   ]
  },
  {
   "cell_type": "code",
   "execution_count": 4,
   "id": "fffffff9",
   "metadata": {},
   "outputs": [],
   "source": [
    "# dropping rows\n",
    "data.drop([122,123],inplace=True)"
   ]
  },
  {
   "cell_type": "code",
   "execution_count": 5,
   "id": "fba4944e",
   "metadata": {},
   "outputs": [],
   "source": [
    "# reset index\n",
    "data.reset_index(inplace=True)"
   ]
  },
  {
   "cell_type": "code",
   "execution_count": 6,
   "id": "b7307cfb",
   "metadata": {},
   "outputs": [],
   "source": [
    "# creating Region column for Bejaia Region Dataset and Sidi-Bel Abbes Region Dataset\n",
    "data['Region']=0\n",
    "for i in range(len(data)):\n",
    "    if i<122:\n",
    "        data['Region'][i]=0\n",
    "    else:\n",
    "        data['Region'][i]=1"
   ]
  },
  {
   "cell_type": "code",
   "execution_count": 7,
   "id": "b34718f0",
   "metadata": {},
   "outputs": [
    {
     "data": {
      "text/html": [
       "<div>\n",
       "<style scoped>\n",
       "    .dataframe tbody tr th:only-of-type {\n",
       "        vertical-align: middle;\n",
       "    }\n",
       "\n",
       "    .dataframe tbody tr th {\n",
       "        vertical-align: top;\n",
       "    }\n",
       "\n",
       "    .dataframe thead th {\n",
       "        text-align: right;\n",
       "    }\n",
       "</style>\n",
       "<table border=\"1\" class=\"dataframe\">\n",
       "  <thead>\n",
       "    <tr style=\"text-align: right;\">\n",
       "      <th></th>\n",
       "      <th>index</th>\n",
       "      <th>day</th>\n",
       "      <th>month</th>\n",
       "      <th>year</th>\n",
       "      <th>Temperature</th>\n",
       "      <th>RH</th>\n",
       "      <th>Ws</th>\n",
       "      <th>Rain</th>\n",
       "      <th>FFMC</th>\n",
       "      <th>DMC</th>\n",
       "      <th>DC</th>\n",
       "      <th>ISI</th>\n",
       "      <th>BUI</th>\n",
       "      <th>FWI</th>\n",
       "      <th>Classes</th>\n",
       "      <th>Region</th>\n",
       "    </tr>\n",
       "  </thead>\n",
       "  <tbody>\n",
       "    <tr>\n",
       "      <th>0</th>\n",
       "      <td>0</td>\n",
       "      <td>01</td>\n",
       "      <td>06</td>\n",
       "      <td>2012</td>\n",
       "      <td>29</td>\n",
       "      <td>57</td>\n",
       "      <td>18</td>\n",
       "      <td>0</td>\n",
       "      <td>65.7</td>\n",
       "      <td>3.4</td>\n",
       "      <td>7.6</td>\n",
       "      <td>1.3</td>\n",
       "      <td>3.4</td>\n",
       "      <td>0.5</td>\n",
       "      <td>not fire</td>\n",
       "      <td>0</td>\n",
       "    </tr>\n",
       "    <tr>\n",
       "      <th>1</th>\n",
       "      <td>1</td>\n",
       "      <td>02</td>\n",
       "      <td>06</td>\n",
       "      <td>2012</td>\n",
       "      <td>29</td>\n",
       "      <td>61</td>\n",
       "      <td>13</td>\n",
       "      <td>1.3</td>\n",
       "      <td>64.4</td>\n",
       "      <td>4.1</td>\n",
       "      <td>7.6</td>\n",
       "      <td>1</td>\n",
       "      <td>3.9</td>\n",
       "      <td>0.4</td>\n",
       "      <td>not fire</td>\n",
       "      <td>0</td>\n",
       "    </tr>\n",
       "    <tr>\n",
       "      <th>2</th>\n",
       "      <td>2</td>\n",
       "      <td>03</td>\n",
       "      <td>06</td>\n",
       "      <td>2012</td>\n",
       "      <td>26</td>\n",
       "      <td>82</td>\n",
       "      <td>22</td>\n",
       "      <td>13.1</td>\n",
       "      <td>47.1</td>\n",
       "      <td>2.5</td>\n",
       "      <td>7.1</td>\n",
       "      <td>0.3</td>\n",
       "      <td>2.7</td>\n",
       "      <td>0.1</td>\n",
       "      <td>not fire</td>\n",
       "      <td>0</td>\n",
       "    </tr>\n",
       "    <tr>\n",
       "      <th>3</th>\n",
       "      <td>3</td>\n",
       "      <td>04</td>\n",
       "      <td>06</td>\n",
       "      <td>2012</td>\n",
       "      <td>25</td>\n",
       "      <td>89</td>\n",
       "      <td>13</td>\n",
       "      <td>2.5</td>\n",
       "      <td>28.6</td>\n",
       "      <td>1.3</td>\n",
       "      <td>6.9</td>\n",
       "      <td>0</td>\n",
       "      <td>1.7</td>\n",
       "      <td>0</td>\n",
       "      <td>not fire</td>\n",
       "      <td>0</td>\n",
       "    </tr>\n",
       "    <tr>\n",
       "      <th>4</th>\n",
       "      <td>4</td>\n",
       "      <td>05</td>\n",
       "      <td>06</td>\n",
       "      <td>2012</td>\n",
       "      <td>27</td>\n",
       "      <td>77</td>\n",
       "      <td>16</td>\n",
       "      <td>0</td>\n",
       "      <td>64.8</td>\n",
       "      <td>3</td>\n",
       "      <td>14.2</td>\n",
       "      <td>1.2</td>\n",
       "      <td>3.9</td>\n",
       "      <td>0.5</td>\n",
       "      <td>not fire</td>\n",
       "      <td>0</td>\n",
       "    </tr>\n",
       "  </tbody>\n",
       "</table>\n",
       "</div>"
      ],
      "text/plain": [
       "   index day month  year Temperature  RH  Ws Rain   FFMC  DMC    DC  ISI  BUI  \\\n",
       "0      0  01    06  2012          29  57  18     0  65.7  3.4   7.6  1.3  3.4   \n",
       "1      1  02    06  2012          29  61  13   1.3  64.4  4.1   7.6    1  3.9   \n",
       "2      2  03    06  2012          26  82  22  13.1  47.1  2.5   7.1  0.3  2.7   \n",
       "3      3  04    06  2012          25  89  13   2.5  28.6  1.3   6.9    0  1.7   \n",
       "4      4  05    06  2012          27  77  16     0  64.8    3  14.2  1.2  3.9   \n",
       "\n",
       "   FWI    Classes    Region  \n",
       "0  0.5  not fire          0  \n",
       "1  0.4  not fire          0  \n",
       "2  0.1  not fire          0  \n",
       "3    0  not fire          0  \n",
       "4  0.5  not fire          0  "
      ]
     },
     "execution_count": 7,
     "metadata": {},
     "output_type": "execute_result"
    }
   ],
   "source": [
    "data.head()"
   ]
  },
  {
   "cell_type": "code",
   "execution_count": 8,
   "id": "b55e5ff0",
   "metadata": {},
   "outputs": [
    {
     "data": {
      "text/plain": [
       "Index(['index', 'day', 'month', 'year', 'Temperature', ' RH', ' Ws', 'Rain ',\n",
       "       'FFMC', 'DMC', 'DC', 'ISI', 'BUI', 'FWI', 'Classes  ', 'Region'],\n",
       "      dtype='object')"
      ]
     },
     "execution_count": 8,
     "metadata": {},
     "output_type": "execute_result"
    }
   ],
   "source": [
    "data.columns"
   ]
  },
  {
   "cell_type": "code",
   "execution_count": 9,
   "id": "b8e0c238",
   "metadata": {},
   "outputs": [
    {
     "name": "stdout",
     "output_type": "stream",
     "text": [
      "Index(['index', 'day', 'month', 'year', 'Temperature', 'RH', 'Ws', 'Rain',\n",
      "       'FFMC', 'DMC', 'DC', 'ISI', 'BUI', 'FWI', 'Classes', 'Region'],\n",
      "      dtype='object')\n"
     ]
    }
   ],
   "source": [
    "for col in data.columns:\n",
    "    data.rename(columns={col:col.strip()},inplace=True)\n",
    "print(data.columns)"
   ]
  },
  {
   "cell_type": "code",
   "execution_count": 10,
   "id": "0ecc47bf",
   "metadata": {},
   "outputs": [
    {
     "data": {
      "text/plain": [
       "index              167\n",
       "day                 14\n",
       "month               07\n",
       "year              2012\n",
       "Temperature         37\n",
       "RH                  37\n",
       "Ws                  18\n",
       "Rain               0.2\n",
       "FFMC              88.9\n",
       "DMC               12.9\n",
       "DC              14.6 9\n",
       "ISI               12.5\n",
       "BUI               10.4\n",
       "FWI            fire   \n",
       "Classes            NaN\n",
       "Region               1\n",
       "Name: 165, dtype: object"
      ]
     },
     "execution_count": 10,
     "metadata": {},
     "output_type": "execute_result"
    }
   ],
   "source": [
    "#mis-match position\n",
    "data.iloc[165]"
   ]
  },
  {
   "cell_type": "code",
   "execution_count": 11,
   "id": "5f6a25d6",
   "metadata": {},
   "outputs": [],
   "source": [
    "#let's correct it\n",
    "data.at[165,'DC']=14.6\n",
    "data.at[165,'ISI']=9\n",
    "data.at[165,'BUI']=12.5\n",
    "data.at[165,'FWI']=10.4\n",
    "data.at[165,'Classes']='fire'"
   ]
  },
  {
   "cell_type": "code",
   "execution_count": 12,
   "id": "e4d91081",
   "metadata": {},
   "outputs": [
    {
     "data": {
      "text/plain": [
       "index           167\n",
       "day              14\n",
       "month            07\n",
       "year           2012\n",
       "Temperature      37\n",
       "RH               37\n",
       "Ws               18\n",
       "Rain            0.2\n",
       "FFMC           88.9\n",
       "DMC            12.9\n",
       "DC             14.6\n",
       "ISI               9\n",
       "BUI            12.5\n",
       "FWI            10.4\n",
       "Classes        fire\n",
       "Region            1\n",
       "Name: 165, dtype: object"
      ]
     },
     "execution_count": 12,
     "metadata": {},
     "output_type": "execute_result"
    }
   ],
   "source": [
    "data.iloc[165]"
   ]
  },
  {
   "cell_type": "code",
   "execution_count": 13,
   "id": "d72eeae0",
   "metadata": {},
   "outputs": [
    {
     "name": "stdout",
     "output_type": "stream",
     "text": [
      "<class 'pandas.core.frame.DataFrame'>\n",
      "RangeIndex: 244 entries, 0 to 243\n",
      "Data columns (total 16 columns):\n",
      " #   Column       Non-Null Count  Dtype \n",
      "---  ------       --------------  ----- \n",
      " 0   index        244 non-null    int64 \n",
      " 1   day          244 non-null    object\n",
      " 2   month        244 non-null    object\n",
      " 3   year         244 non-null    object\n",
      " 4   Temperature  244 non-null    object\n",
      " 5   RH           244 non-null    object\n",
      " 6   Ws           244 non-null    object\n",
      " 7   Rain         244 non-null    object\n",
      " 8   FFMC         244 non-null    object\n",
      " 9   DMC          244 non-null    object\n",
      " 10  DC           244 non-null    object\n",
      " 11  ISI          244 non-null    object\n",
      " 12  BUI          244 non-null    object\n",
      " 13  FWI          244 non-null    object\n",
      " 14  Classes      244 non-null    object\n",
      " 15  Region       244 non-null    int64 \n",
      "dtypes: int64(2), object(14)\n",
      "memory usage: 30.6+ KB\n"
     ]
    }
   ],
   "source": [
    "data.info()"
   ]
  },
  {
   "cell_type": "code",
   "execution_count": 14,
   "id": "43bc2a42",
   "metadata": {},
   "outputs": [
    {
     "data": {
      "text/html": [
       "<div>\n",
       "<style scoped>\n",
       "    .dataframe tbody tr th:only-of-type {\n",
       "        vertical-align: middle;\n",
       "    }\n",
       "\n",
       "    .dataframe tbody tr th {\n",
       "        vertical-align: top;\n",
       "    }\n",
       "\n",
       "    .dataframe thead th {\n",
       "        text-align: right;\n",
       "    }\n",
       "</style>\n",
       "<table border=\"1\" class=\"dataframe\">\n",
       "  <thead>\n",
       "    <tr style=\"text-align: right;\">\n",
       "      <th></th>\n",
       "      <th>index</th>\n",
       "      <th>day</th>\n",
       "      <th>month</th>\n",
       "      <th>year</th>\n",
       "      <th>Temperature</th>\n",
       "      <th>RH</th>\n",
       "      <th>Ws</th>\n",
       "      <th>Rain</th>\n",
       "      <th>FFMC</th>\n",
       "      <th>DMC</th>\n",
       "      <th>DC</th>\n",
       "      <th>ISI</th>\n",
       "      <th>BUI</th>\n",
       "      <th>FWI</th>\n",
       "      <th>Classes</th>\n",
       "      <th>Region</th>\n",
       "    </tr>\n",
       "  </thead>\n",
       "  <tbody>\n",
       "    <tr>\n",
       "      <th>0</th>\n",
       "      <td>0</td>\n",
       "      <td>01</td>\n",
       "      <td>06</td>\n",
       "      <td>2012</td>\n",
       "      <td>29</td>\n",
       "      <td>57</td>\n",
       "      <td>18</td>\n",
       "      <td>0</td>\n",
       "      <td>65.7</td>\n",
       "      <td>3.4</td>\n",
       "      <td>7.6</td>\n",
       "      <td>1.3</td>\n",
       "      <td>3.4</td>\n",
       "      <td>0.5</td>\n",
       "      <td>not fire</td>\n",
       "      <td>0</td>\n",
       "    </tr>\n",
       "    <tr>\n",
       "      <th>1</th>\n",
       "      <td>1</td>\n",
       "      <td>02</td>\n",
       "      <td>06</td>\n",
       "      <td>2012</td>\n",
       "      <td>29</td>\n",
       "      <td>61</td>\n",
       "      <td>13</td>\n",
       "      <td>1.3</td>\n",
       "      <td>64.4</td>\n",
       "      <td>4.1</td>\n",
       "      <td>7.6</td>\n",
       "      <td>1</td>\n",
       "      <td>3.9</td>\n",
       "      <td>0.4</td>\n",
       "      <td>not fire</td>\n",
       "      <td>0</td>\n",
       "    </tr>\n",
       "    <tr>\n",
       "      <th>2</th>\n",
       "      <td>2</td>\n",
       "      <td>03</td>\n",
       "      <td>06</td>\n",
       "      <td>2012</td>\n",
       "      <td>26</td>\n",
       "      <td>82</td>\n",
       "      <td>22</td>\n",
       "      <td>13.1</td>\n",
       "      <td>47.1</td>\n",
       "      <td>2.5</td>\n",
       "      <td>7.1</td>\n",
       "      <td>0.3</td>\n",
       "      <td>2.7</td>\n",
       "      <td>0.1</td>\n",
       "      <td>not fire</td>\n",
       "      <td>0</td>\n",
       "    </tr>\n",
       "    <tr>\n",
       "      <th>3</th>\n",
       "      <td>3</td>\n",
       "      <td>04</td>\n",
       "      <td>06</td>\n",
       "      <td>2012</td>\n",
       "      <td>25</td>\n",
       "      <td>89</td>\n",
       "      <td>13</td>\n",
       "      <td>2.5</td>\n",
       "      <td>28.6</td>\n",
       "      <td>1.3</td>\n",
       "      <td>6.9</td>\n",
       "      <td>0</td>\n",
       "      <td>1.7</td>\n",
       "      <td>0</td>\n",
       "      <td>not fire</td>\n",
       "      <td>0</td>\n",
       "    </tr>\n",
       "    <tr>\n",
       "      <th>4</th>\n",
       "      <td>4</td>\n",
       "      <td>05</td>\n",
       "      <td>06</td>\n",
       "      <td>2012</td>\n",
       "      <td>27</td>\n",
       "      <td>77</td>\n",
       "      <td>16</td>\n",
       "      <td>0</td>\n",
       "      <td>64.8</td>\n",
       "      <td>3</td>\n",
       "      <td>14.2</td>\n",
       "      <td>1.2</td>\n",
       "      <td>3.9</td>\n",
       "      <td>0.5</td>\n",
       "      <td>not fire</td>\n",
       "      <td>0</td>\n",
       "    </tr>\n",
       "  </tbody>\n",
       "</table>\n",
       "</div>"
      ],
      "text/plain": [
       "   index day month  year Temperature  RH  Ws  Rain  FFMC  DMC    DC  ISI  BUI  \\\n",
       "0      0  01    06  2012          29  57  18     0  65.7  3.4   7.6  1.3  3.4   \n",
       "1      1  02    06  2012          29  61  13   1.3  64.4  4.1   7.6    1  3.9   \n",
       "2      2  03    06  2012          26  82  22  13.1  47.1  2.5   7.1  0.3  2.7   \n",
       "3      3  04    06  2012          25  89  13   2.5  28.6  1.3   6.9    0  1.7   \n",
       "4      4  05    06  2012          27  77  16     0  64.8    3  14.2  1.2  3.9   \n",
       "\n",
       "   FWI      Classes  Region  \n",
       "0  0.5  not fire          0  \n",
       "1  0.4  not fire          0  \n",
       "2  0.1  not fire          0  \n",
       "3    0  not fire          0  \n",
       "4  0.5  not fire          0  "
      ]
     },
     "execution_count": 14,
     "metadata": {},
     "output_type": "execute_result"
    }
   ],
   "source": [
    "data.head()"
   ]
  },
  {
   "cell_type": "code",
   "execution_count": 15,
   "id": "526db52e",
   "metadata": {},
   "outputs": [
    {
     "data": {
      "text/plain": [
       "Index(['index', 'day', 'month', 'year', 'Temperature', 'RH', 'Ws', 'Rain',\n",
       "       'FFMC', 'DMC', 'DC', 'ISI', 'BUI', 'FWI', 'Classes', 'Region'],\n",
       "      dtype='object')"
      ]
     },
     "execution_count": 15,
     "metadata": {},
     "output_type": "execute_result"
    }
   ],
   "source": [
    "data.columns"
   ]
  },
  {
   "cell_type": "code",
   "execution_count": 16,
   "id": "cad6c886",
   "metadata": {},
   "outputs": [],
   "source": [
    "data[['index', 'day', 'month', 'year', 'Temperature', 'RH', 'Ws']]=data[['index', 'day', 'month', 'year', 'Temperature', 'RH', 'Ws']].astype(int)\n",
    "data[['Rain','FFMC', 'DMC', 'DC', 'ISI', 'BUI', 'FWI']]=data[['Rain','FFMC', 'DMC', 'DC', 'ISI', 'BUI', 'FWI']].astype(float)"
   ]
  },
  {
   "cell_type": "code",
   "execution_count": 17,
   "id": "37f8a26d",
   "metadata": {},
   "outputs": [
    {
     "name": "stdout",
     "output_type": "stream",
     "text": [
      "<class 'pandas.core.frame.DataFrame'>\n",
      "RangeIndex: 244 entries, 0 to 243\n",
      "Data columns (total 16 columns):\n",
      " #   Column       Non-Null Count  Dtype  \n",
      "---  ------       --------------  -----  \n",
      " 0   index        244 non-null    int32  \n",
      " 1   day          244 non-null    int32  \n",
      " 2   month        244 non-null    int32  \n",
      " 3   year         244 non-null    int32  \n",
      " 4   Temperature  244 non-null    int32  \n",
      " 5   RH           244 non-null    int32  \n",
      " 6   Ws           244 non-null    int32  \n",
      " 7   Rain         244 non-null    float64\n",
      " 8   FFMC         244 non-null    float64\n",
      " 9   DMC          244 non-null    float64\n",
      " 10  DC           244 non-null    float64\n",
      " 11  ISI          244 non-null    float64\n",
      " 12  BUI          244 non-null    float64\n",
      " 13  FWI          244 non-null    float64\n",
      " 14  Classes      244 non-null    object \n",
      " 15  Region       244 non-null    int64  \n",
      "dtypes: float64(7), int32(7), int64(1), object(1)\n",
      "memory usage: 24.0+ KB\n"
     ]
    }
   ],
   "source": [
    "data.info()"
   ]
  },
  {
   "cell_type": "code",
   "execution_count": 18,
   "id": "ed529054",
   "metadata": {},
   "outputs": [
    {
     "data": {
      "text/plain": [
       "array(['not fire   ', 'fire   ', 'fire', 'fire ', 'not fire', 'not fire ',\n",
       "       'not fire     ', 'not fire    '], dtype=object)"
      ]
     },
     "execution_count": 18,
     "metadata": {},
     "output_type": "execute_result"
    }
   ],
   "source": [
    "# we have one categorical feature\n",
    "data['Classes'].unique()\n"
   ]
  },
  {
   "cell_type": "code",
   "execution_count": 19,
   "id": "d03edeae",
   "metadata": {},
   "outputs": [],
   "source": [
    "data['Classes']=[i.strip() for i in data.Classes]"
   ]
  },
  {
   "cell_type": "code",
   "execution_count": 20,
   "id": "abf00501",
   "metadata": {},
   "outputs": [
    {
     "data": {
      "text/plain": [
       "array(['not fire', 'fire'], dtype=object)"
      ]
     },
     "execution_count": 20,
     "metadata": {},
     "output_type": "execute_result"
    }
   ],
   "source": [
    "data['Classes'].unique()"
   ]
  },
  {
   "cell_type": "code",
   "execution_count": 21,
   "id": "005e9b08",
   "metadata": {},
   "outputs": [
    {
     "data": {
      "text/plain": [
       "(244, 16)"
      ]
     },
     "execution_count": 21,
     "metadata": {},
     "output_type": "execute_result"
    }
   ],
   "source": [
    "data.shape"
   ]
  },
  {
   "cell_type": "code",
   "execution_count": 22,
   "id": "d370fdbd",
   "metadata": {},
   "outputs": [
    {
     "data": {
      "text/html": [
       "<div>\n",
       "<style scoped>\n",
       "    .dataframe tbody tr th:only-of-type {\n",
       "        vertical-align: middle;\n",
       "    }\n",
       "\n",
       "    .dataframe tbody tr th {\n",
       "        vertical-align: top;\n",
       "    }\n",
       "\n",
       "    .dataframe thead th {\n",
       "        text-align: right;\n",
       "    }\n",
       "</style>\n",
       "<table border=\"1\" class=\"dataframe\">\n",
       "  <thead>\n",
       "    <tr style=\"text-align: right;\">\n",
       "      <th></th>\n",
       "      <th>count</th>\n",
       "      <th>mean</th>\n",
       "      <th>std</th>\n",
       "      <th>min</th>\n",
       "      <th>25%</th>\n",
       "      <th>50%</th>\n",
       "      <th>75%</th>\n",
       "      <th>max</th>\n",
       "    </tr>\n",
       "  </thead>\n",
       "  <tbody>\n",
       "    <tr>\n",
       "      <th>index</th>\n",
       "      <td>244.0</td>\n",
       "      <td>122.500000</td>\n",
       "      <td>71.450492</td>\n",
       "      <td>0.0</td>\n",
       "      <td>60.750</td>\n",
       "      <td>122.50</td>\n",
       "      <td>184.250</td>\n",
       "      <td>245.0</td>\n",
       "    </tr>\n",
       "    <tr>\n",
       "      <th>day</th>\n",
       "      <td>244.0</td>\n",
       "      <td>15.754098</td>\n",
       "      <td>8.825059</td>\n",
       "      <td>1.0</td>\n",
       "      <td>8.000</td>\n",
       "      <td>16.00</td>\n",
       "      <td>23.000</td>\n",
       "      <td>31.0</td>\n",
       "    </tr>\n",
       "    <tr>\n",
       "      <th>month</th>\n",
       "      <td>244.0</td>\n",
       "      <td>7.500000</td>\n",
       "      <td>1.112961</td>\n",
       "      <td>6.0</td>\n",
       "      <td>7.000</td>\n",
       "      <td>7.50</td>\n",
       "      <td>8.000</td>\n",
       "      <td>9.0</td>\n",
       "    </tr>\n",
       "    <tr>\n",
       "      <th>year</th>\n",
       "      <td>244.0</td>\n",
       "      <td>2012.000000</td>\n",
       "      <td>0.000000</td>\n",
       "      <td>2012.0</td>\n",
       "      <td>2012.000</td>\n",
       "      <td>2012.00</td>\n",
       "      <td>2012.000</td>\n",
       "      <td>2012.0</td>\n",
       "    </tr>\n",
       "    <tr>\n",
       "      <th>Temperature</th>\n",
       "      <td>244.0</td>\n",
       "      <td>32.172131</td>\n",
       "      <td>3.633843</td>\n",
       "      <td>22.0</td>\n",
       "      <td>30.000</td>\n",
       "      <td>32.00</td>\n",
       "      <td>35.000</td>\n",
       "      <td>42.0</td>\n",
       "    </tr>\n",
       "    <tr>\n",
       "      <th>RH</th>\n",
       "      <td>244.0</td>\n",
       "      <td>61.938525</td>\n",
       "      <td>14.884200</td>\n",
       "      <td>21.0</td>\n",
       "      <td>52.000</td>\n",
       "      <td>63.00</td>\n",
       "      <td>73.250</td>\n",
       "      <td>90.0</td>\n",
       "    </tr>\n",
       "    <tr>\n",
       "      <th>Ws</th>\n",
       "      <td>244.0</td>\n",
       "      <td>15.504098</td>\n",
       "      <td>2.810178</td>\n",
       "      <td>6.0</td>\n",
       "      <td>14.000</td>\n",
       "      <td>15.00</td>\n",
       "      <td>17.000</td>\n",
       "      <td>29.0</td>\n",
       "    </tr>\n",
       "    <tr>\n",
       "      <th>Rain</th>\n",
       "      <td>244.0</td>\n",
       "      <td>0.760656</td>\n",
       "      <td>1.999406</td>\n",
       "      <td>0.0</td>\n",
       "      <td>0.000</td>\n",
       "      <td>0.00</td>\n",
       "      <td>0.500</td>\n",
       "      <td>16.8</td>\n",
       "    </tr>\n",
       "    <tr>\n",
       "      <th>FFMC</th>\n",
       "      <td>244.0</td>\n",
       "      <td>77.887705</td>\n",
       "      <td>14.337571</td>\n",
       "      <td>28.6</td>\n",
       "      <td>72.075</td>\n",
       "      <td>83.50</td>\n",
       "      <td>88.300</td>\n",
       "      <td>96.0</td>\n",
       "    </tr>\n",
       "    <tr>\n",
       "      <th>DMC</th>\n",
       "      <td>244.0</td>\n",
       "      <td>14.673361</td>\n",
       "      <td>12.368039</td>\n",
       "      <td>0.7</td>\n",
       "      <td>5.800</td>\n",
       "      <td>11.30</td>\n",
       "      <td>20.750</td>\n",
       "      <td>65.9</td>\n",
       "    </tr>\n",
       "    <tr>\n",
       "      <th>DC</th>\n",
       "      <td>244.0</td>\n",
       "      <td>49.288115</td>\n",
       "      <td>47.619662</td>\n",
       "      <td>6.9</td>\n",
       "      <td>13.275</td>\n",
       "      <td>33.10</td>\n",
       "      <td>68.150</td>\n",
       "      <td>220.4</td>\n",
       "    </tr>\n",
       "    <tr>\n",
       "      <th>ISI</th>\n",
       "      <td>244.0</td>\n",
       "      <td>4.759836</td>\n",
       "      <td>4.154628</td>\n",
       "      <td>0.0</td>\n",
       "      <td>1.400</td>\n",
       "      <td>3.50</td>\n",
       "      <td>7.300</td>\n",
       "      <td>19.0</td>\n",
       "    </tr>\n",
       "    <tr>\n",
       "      <th>BUI</th>\n",
       "      <td>244.0</td>\n",
       "      <td>16.673361</td>\n",
       "      <td>14.201648</td>\n",
       "      <td>1.1</td>\n",
       "      <td>6.000</td>\n",
       "      <td>12.45</td>\n",
       "      <td>22.525</td>\n",
       "      <td>68.0</td>\n",
       "    </tr>\n",
       "    <tr>\n",
       "      <th>FWI</th>\n",
       "      <td>244.0</td>\n",
       "      <td>7.049180</td>\n",
       "      <td>7.428366</td>\n",
       "      <td>0.0</td>\n",
       "      <td>0.700</td>\n",
       "      <td>4.45</td>\n",
       "      <td>11.375</td>\n",
       "      <td>31.1</td>\n",
       "    </tr>\n",
       "    <tr>\n",
       "      <th>Region</th>\n",
       "      <td>244.0</td>\n",
       "      <td>0.500000</td>\n",
       "      <td>0.501028</td>\n",
       "      <td>0.0</td>\n",
       "      <td>0.000</td>\n",
       "      <td>0.50</td>\n",
       "      <td>1.000</td>\n",
       "      <td>1.0</td>\n",
       "    </tr>\n",
       "  </tbody>\n",
       "</table>\n",
       "</div>"
      ],
      "text/plain": [
       "             count         mean        std     min       25%      50%  \\\n",
       "index        244.0   122.500000  71.450492     0.0    60.750   122.50   \n",
       "day          244.0    15.754098   8.825059     1.0     8.000    16.00   \n",
       "month        244.0     7.500000   1.112961     6.0     7.000     7.50   \n",
       "year         244.0  2012.000000   0.000000  2012.0  2012.000  2012.00   \n",
       "Temperature  244.0    32.172131   3.633843    22.0    30.000    32.00   \n",
       "RH           244.0    61.938525  14.884200    21.0    52.000    63.00   \n",
       "Ws           244.0    15.504098   2.810178     6.0    14.000    15.00   \n",
       "Rain         244.0     0.760656   1.999406     0.0     0.000     0.00   \n",
       "FFMC         244.0    77.887705  14.337571    28.6    72.075    83.50   \n",
       "DMC          244.0    14.673361  12.368039     0.7     5.800    11.30   \n",
       "DC           244.0    49.288115  47.619662     6.9    13.275    33.10   \n",
       "ISI          244.0     4.759836   4.154628     0.0     1.400     3.50   \n",
       "BUI          244.0    16.673361  14.201648     1.1     6.000    12.45   \n",
       "FWI          244.0     7.049180   7.428366     0.0     0.700     4.45   \n",
       "Region       244.0     0.500000   0.501028     0.0     0.000     0.50   \n",
       "\n",
       "                  75%     max  \n",
       "index         184.250   245.0  \n",
       "day            23.000    31.0  \n",
       "month           8.000     9.0  \n",
       "year         2012.000  2012.0  \n",
       "Temperature    35.000    42.0  \n",
       "RH             73.250    90.0  \n",
       "Ws             17.000    29.0  \n",
       "Rain            0.500    16.8  \n",
       "FFMC           88.300    96.0  \n",
       "DMC            20.750    65.9  \n",
       "DC             68.150   220.4  \n",
       "ISI             7.300    19.0  \n",
       "BUI            22.525    68.0  \n",
       "FWI            11.375    31.1  \n",
       "Region          1.000     1.0  "
      ]
     },
     "execution_count": 22,
     "metadata": {},
     "output_type": "execute_result"
    }
   ],
   "source": [
    "data.describe().T"
   ]
  },
  {
   "cell_type": "code",
   "execution_count": 23,
   "id": "0ea34df9",
   "metadata": {},
   "outputs": [
    {
     "data": {
      "text/plain": [
       "index          0\n",
       "day            0\n",
       "month          0\n",
       "year           0\n",
       "Temperature    0\n",
       "RH             0\n",
       "Ws             0\n",
       "Rain           0\n",
       "FFMC           0\n",
       "DMC            0\n",
       "DC             0\n",
       "ISI            0\n",
       "BUI            0\n",
       "FWI            0\n",
       "Classes        0\n",
       "Region         0\n",
       "dtype: int64"
      ]
     },
     "execution_count": 23,
     "metadata": {},
     "output_type": "execute_result"
    }
   ],
   "source": [
    "# checking the missing values\n",
    "data.isnull().sum()"
   ]
  },
  {
   "cell_type": "code",
   "execution_count": 24,
   "id": "c75d6e83",
   "metadata": {},
   "outputs": [
    {
     "data": {
      "text/plain": [
       "['Classes']"
      ]
     },
     "execution_count": 24,
     "metadata": {},
     "output_type": "execute_result"
    }
   ],
   "source": [
    "# categorical Features\n",
    "#categorical_features=[ i for i in data.columns if data[i].dtypes=='object']\n",
    "categorical_features=[ i for i in data.columns if data.dtypes[i]=='O']\n",
    "categorical_features"
   ]
  },
  {
   "cell_type": "code",
   "execution_count": 25,
   "id": "f09ce558",
   "metadata": {},
   "outputs": [
    {
     "name": "stdout",
     "output_type": "stream",
     "text": [
      "['index', 'day', 'month', 'year', 'Temperature', 'RH', 'Ws', 'Rain', 'FFMC', 'DMC', 'DC', 'ISI', 'BUI', 'FWI', 'Region']\n"
     ]
    }
   ],
   "source": [
    "# numericalfeatures\n",
    "numerical_features=[feature for feature in data.columns if data[feature].dtype!= 'O']\n",
    "print(numerical_features)"
   ]
  },
  {
   "cell_type": "code",
   "execution_count": 78,
   "id": "5ec3b663",
   "metadata": {},
   "outputs": [],
   "source": [
    "#numerical continous feature and discrete feature\n",
    "discrete_feature=['day', 'month', 'year','index','Region','Temperature']\n",
    "continous_feature=[fea for fea in numerical_features if fea not in discrete_feature]"
   ]
  },
  {
   "cell_type": "code",
   "execution_count": 82,
   "id": "52b07723",
   "metadata": {},
   "outputs": [
    {
     "name": "stdout",
     "output_type": "stream",
     "text": [
      "['day', 'month', 'year', 'index', 'Region', 'Temperature']\n",
      "----------------------------------------------------------------------------------------------------\n",
      "['RH', 'Ws', 'Rain', 'FFMC', 'DMC', 'DC', 'ISI', 'BUI', 'FWI']\n"
     ]
    }
   ],
   "source": [
    "print(discrete_feature)\n",
    "print(\"-\"*100)\n",
    "print(continous_feature)"
   ]
  },
  {
   "cell_type": "markdown",
   "id": "7d90d2ad",
   "metadata": {},
   "source": [
    "## Univariate Analysis\n",
    "\n",
    "* The term univariate analysis refers to the analysis of one variable prefix “uni” means “one.” The purpose of univariate analysis is to understand the distribution of values for a single variable."
   ]
  },
  {
   "cell_type": "code",
   "execution_count": 74,
   "id": "29cf0f21",
   "metadata": {},
   "outputs": [
    {
     "data": {
      "image/png": "[encoded data removed]",
      "text/plain": [
       "<Figure size 432x288 with 1 Axes>"
      ]
     },
     "metadata": {
      "needs_background": "light"
     },
     "output_type": "display_data"
    },
    {
     "data": {
      "image/png": "[encoded data removed]",
      "text/plain": [
       "<Figure size 432x288 with 1 Axes>"
      ]
     },
     "metadata": {
      "needs_background": "light"
     },
     "output_type": "display_data"
    },
    {
     "data": {
      "image/png": "[encoded data removed]",
      "text/plain": [
       "<Figure size 432x288 with 1 Axes>"
      ]
     },
     "metadata": {
      "needs_background": "light"
     },
     "output_type": "display_data"
    },
    {
     "data": {
      "image/png": "[encoded data removed]",
      "text/plain": [
       "<Figure size 432x288 with 1 Axes>"
      ]
     },
     "metadata": {
      "needs_background": "light"
     },
     "output_type": "display_data"
    },
    {
     "data": {
      "image/png": "[encoded data removed]",
      "text/plain": [
       "<Figure size 432x288 with 1 Axes>"
      ]
     },
     "metadata": {
      "needs_background": "light"
     },
     "output_type": "display_data"
    },
    {
     "data": {
      "image/png": "[encoded data removed]",
      "text/plain": [
       "<Figure size 432x288 with 1 Axes>"
      ]
     },
     "metadata": {
      "needs_background": "light"
     },
     "output_type": "display_data"
    },
    {
     "data": {
      "image/png": "[encoded data removed]",
      "text/plain": [
       "<Figure size 432x288 with 1 Axes>"
      ]
     },
     "metadata": {
      "needs_background": "light"
     },
     "output_type": "display_data"
    },
    {
     "data": {
      "image/png": "[encoded data removed]",
      "text/plain": [
       "<Figure size 432x288 with 1 Axes>"
      ]
     },
     "metadata": {
      "needs_background": "light"
     },
     "output_type": "display_data"
    },
    {
     "data": {
      "image/png": "[encoded data removed]",
      "text/plain": [
       "<Figure size 432x288 with 1 Axes>"
      ]
     },
     "metadata": {
      "needs_background": "light"
     },
     "output_type": "display_data"
    }
   ],
   "source": [
    "for i in continous_feature:\n",
    "    sns.histplot(data=data,x=i,kde=True,bins=15,color='g')\n",
    "    plt.show()"
   ]
  },
  {
   "cell_type": "code",
   "execution_count": 76,
   "id": "a5352679",
   "metadata": {},
   "outputs": [],
   "source": [
    "#observation\n",
    "# RH follow normally distributed \n",
    "# Rain,DC,DMC,FWI,BUI,ISI,WS right skewed\n",
    "# FFMC following left skewed\n",
    "\n"
   ]
  },
  {
   "cell_type": "code",
   "execution_count": 43,
   "id": "898888e5",
   "metadata": {},
   "outputs": [
    {
     "data": {
      "text/plain": [
       "<AxesSubplot:xlabel='Region', ylabel='count'>"
      ]
     },
     "execution_count": 43,
     "metadata": {},
     "output_type": "execute_result"
    },
    {
     "data": {
      "image/png": "[encoded data removed]",
      "text/plain": [
       "<Figure size 432x288 with 1 Axes>"
      ]
     },
     "metadata": {
      "needs_background": "light"
     },
     "output_type": "display_data"
    }
   ],
   "source": [
    "sns.countplot(data=data,x='Region',hue='Classes')"
   ]
  },
  {
   "cell_type": "code",
   "execution_count": 77,
   "id": "a0677704",
   "metadata": {},
   "outputs": [],
   "source": [
    "# observation based on regions\n",
    "# Sidi-Bel Abbes Region has more fire \n",
    "# Bejaia Region fire and not fire approximately same"
   ]
  },
  {
   "cell_type": "code",
   "execution_count": null,
   "id": "4752647a",
   "metadata": {},
   "outputs": [],
   "source": []
  },
  {
   "cell_type": "code",
   "execution_count": null,
   "id": "3d866c6b",
   "metadata": {},
   "outputs": [],
   "source": []
  },
  {
   "cell_type": "code",
   "execution_count": 30,
   "id": "26604c86",
   "metadata": {},
   "outputs": [
    {
     "data": {
      "text/plain": [
       "0    122\n",
       "1    122\n",
       "Name: Region, dtype: int64"
      ]
     },
     "execution_count": 30,
     "metadata": {},
     "output_type": "execute_result"
    }
   ],
   "source": [
    "data['Region'].value_counts()"
   ]
  },
  {
   "cell_type": "code",
   "execution_count": 85,
   "id": "a72b75c2",
   "metadata": {},
   "outputs": [
    {
     "data": {
      "image/png": "[encoded data removed]",
      "text/plain": [
       "<Figure size 432x288 with 1 Axes>"
      ]
     },
     "metadata": {
      "needs_background": "light"
     },
     "output_type": "display_data"
    },
    {
     "data": {
      "image/png": "[encoded data removed]",
      "text/plain": [
       "<Figure size 432x288 with 1 Axes>"
      ]
     },
     "metadata": {
      "needs_background": "light"
     },
     "output_type": "display_data"
    },
    {
     "data": {
      "image/png": "[encoded data removed]",
      "text/plain": [
       "<Figure size 432x288 with 1 Axes>"
      ]
     },
     "metadata": {
      "needs_background": "light"
     },
     "output_type": "display_data"
    },
    {
     "data": {
      "image/png": "[encoded data removed]",
      "text/plain": [
       "<Figure size 432x288 with 1 Axes>"
      ]
     },
     "metadata": {
      "needs_background": "light"
     },
     "output_type": "display_data"
    },
    {
     "data": {
      "image/png": "[encoded data removed]",
      "text/plain": [
       "<Figure size 432x288 with 1 Axes>"
      ]
     },
     "metadata": {
      "needs_background": "light"
     },
     "output_type": "display_data"
    },
    {
     "data": {
      "image/png": "[encoded data removed]",
      "text/plain": [
       "<Figure size 432x288 with 1 Axes>"
      ]
     },
     "metadata": {
      "needs_background": "light"
     },
     "output_type": "display_data"
    }
   ],
   "source": [
    "for i in discrete_feature:\n",
    "    sns.countplot(data=data,x=i,hue='Classes')\n",
    "    plt.show()"
   ]
  },
  {
   "cell_type": "code",
   "execution_count": 31,
   "id": "a6c63aaf",
   "metadata": {},
   "outputs": [
    {
     "data": {
      "text/plain": [
       "Classes   Region\n",
       "fire      1         79\n",
       "          0         59\n",
       "not fire  0         63\n",
       "          1         43\n",
       "Name: Region, dtype: int64"
      ]
     },
     "execution_count": 31,
     "metadata": {},
     "output_type": "execute_result"
    }
   ],
   "source": [
    "data.groupby('Classes')['Region'].value_counts()"
   ]
  },
  {
   "cell_type": "code",
   "execution_count": 32,
   "id": "5e56649b",
   "metadata": {},
   "outputs": [
    {
     "data": {
      "text/plain": [
       "<AxesSubplot:xlabel='Classes', ylabel='count'>"
      ]
     },
     "execution_count": 32,
     "metadata": {},
     "output_type": "execute_result"
    },
    {
     "data": {
      "image/png": "[encoded data removed]",
      "text/plain": [
       "<Figure size 432x288 with 1 Axes>"
      ]
     },
     "metadata": {
      "needs_background": "light"
     },
     "output_type": "display_data"
    }
   ],
   "source": [
    "sns.countplot(data=data,x='Classes',hue='Region')"
   ]
  },
  {
   "cell_type": "code",
   "execution_count": 90,
   "id": "180f8f88",
   "metadata": {},
   "outputs": [
    {
     "data": {
      "text/html": [
       "<div>\n",
       "<style scoped>\n",
       "    .dataframe tbody tr th:only-of-type {\n",
       "        vertical-align: middle;\n",
       "    }\n",
       "\n",
       "    .dataframe tbody tr th {\n",
       "        vertical-align: top;\n",
       "    }\n",
       "\n",
       "    .dataframe thead th {\n",
       "        text-align: right;\n",
       "    }\n",
       "</style>\n",
       "<table border=\"1\" class=\"dataframe\">\n",
       "  <thead>\n",
       "    <tr style=\"text-align: right;\">\n",
       "      <th></th>\n",
       "      <th>index</th>\n",
       "      <th>day</th>\n",
       "      <th>month</th>\n",
       "      <th>year</th>\n",
       "      <th>Temperature</th>\n",
       "      <th>RH</th>\n",
       "      <th>Ws</th>\n",
       "      <th>Rain</th>\n",
       "      <th>FFMC</th>\n",
       "      <th>DMC</th>\n",
       "      <th>DC</th>\n",
       "      <th>ISI</th>\n",
       "      <th>BUI</th>\n",
       "      <th>FWI</th>\n",
       "      <th>Region</th>\n",
       "    </tr>\n",
       "  </thead>\n",
       "  <tbody>\n",
       "    <tr>\n",
       "      <th>index</th>\n",
       "      <td>1.000000</td>\n",
       "      <td>1.234134e-01</td>\n",
       "      <td>4.782196e-01</td>\n",
       "      <td>NaN</td>\n",
       "      <td>0.219836</td>\n",
       "      <td>-0.380075</td>\n",
       "      <td>-0.168174</td>\n",
       "      <td>-0.032159</td>\n",
       "      <td>0.229225</td>\n",
       "      <td>0.258296</td>\n",
       "      <td>0.054404</td>\n",
       "      <td>0.283137</td>\n",
       "      <td>0.180165</td>\n",
       "      <td>0.253889</td>\n",
       "      <td>8.695173e-01</td>\n",
       "    </tr>\n",
       "    <tr>\n",
       "      <th>day</th>\n",
       "      <td>0.123413</td>\n",
       "      <td>1.000000e+00</td>\n",
       "      <td>2.232788e-17</td>\n",
       "      <td>NaN</td>\n",
       "      <td>0.095772</td>\n",
       "      <td>-0.074209</td>\n",
       "      <td>0.047001</td>\n",
       "      <td>-0.112265</td>\n",
       "      <td>0.224032</td>\n",
       "      <td>0.491571</td>\n",
       "      <td>0.527929</td>\n",
       "      <td>0.179301</td>\n",
       "      <td>0.517224</td>\n",
       "      <td>0.350234</td>\n",
       "      <td>4.662229e-16</td>\n",
       "    </tr>\n",
       "    <tr>\n",
       "      <th>month</th>\n",
       "      <td>0.478220</td>\n",
       "      <td>2.232788e-17</td>\n",
       "      <td>1.000000e+00</td>\n",
       "      <td>NaN</td>\n",
       "      <td>-0.059017</td>\n",
       "      <td>-0.037884</td>\n",
       "      <td>-0.041447</td>\n",
       "      <td>0.035322</td>\n",
       "      <td>0.015577</td>\n",
       "      <td>0.068178</td>\n",
       "      <td>0.127672</td>\n",
       "      <td>0.063545</td>\n",
       "      <td>0.085567</td>\n",
       "      <td>0.081732</td>\n",
       "      <td>-9.586232e-17</td>\n",
       "    </tr>\n",
       "    <tr>\n",
       "      <th>year</th>\n",
       "      <td>NaN</td>\n",
       "      <td>NaN</td>\n",
       "      <td>NaN</td>\n",
       "      <td>NaN</td>\n",
       "      <td>NaN</td>\n",
       "      <td>NaN</td>\n",
       "      <td>NaN</td>\n",
       "      <td>NaN</td>\n",
       "      <td>NaN</td>\n",
       "      <td>NaN</td>\n",
       "      <td>NaN</td>\n",
       "      <td>NaN</td>\n",
       "      <td>NaN</td>\n",
       "      <td>NaN</td>\n",
       "      <td>NaN</td>\n",
       "    </tr>\n",
       "    <tr>\n",
       "      <th>Temperature</th>\n",
       "      <td>0.219836</td>\n",
       "      <td>9.577222e-02</td>\n",
       "      <td>-5.901677e-02</td>\n",
       "      <td>NaN</td>\n",
       "      <td>1.000000</td>\n",
       "      <td>-0.654443</td>\n",
       "      <td>-0.278132</td>\n",
       "      <td>-0.326786</td>\n",
       "      <td>0.677491</td>\n",
       "      <td>0.483105</td>\n",
       "      <td>0.370498</td>\n",
       "      <td>0.605971</td>\n",
       "      <td>0.456415</td>\n",
       "      <td>0.566839</td>\n",
       "      <td>2.734961e-01</td>\n",
       "    </tr>\n",
       "    <tr>\n",
       "      <th>RH</th>\n",
       "      <td>-0.380075</td>\n",
       "      <td>-7.420934e-02</td>\n",
       "      <td>-3.788419e-02</td>\n",
       "      <td>NaN</td>\n",
       "      <td>-0.654443</td>\n",
       "      <td>1.000000</td>\n",
       "      <td>0.236084</td>\n",
       "      <td>0.222968</td>\n",
       "      <td>-0.645658</td>\n",
       "      <td>-0.405133</td>\n",
       "      <td>-0.220330</td>\n",
       "      <td>-0.688268</td>\n",
       "      <td>-0.349685</td>\n",
       "      <td>-0.580457</td>\n",
       "      <td>-4.064239e-01</td>\n",
       "    </tr>\n",
       "    <tr>\n",
       "      <th>Ws</th>\n",
       "      <td>-0.168174</td>\n",
       "      <td>4.700086e-02</td>\n",
       "      <td>-4.144673e-02</td>\n",
       "      <td>NaN</td>\n",
       "      <td>-0.278132</td>\n",
       "      <td>0.236084</td>\n",
       "      <td>1.000000</td>\n",
       "      <td>0.170169</td>\n",
       "      <td>-0.163255</td>\n",
       "      <td>-0.001246</td>\n",
       "      <td>0.076245</td>\n",
       "      <td>0.012245</td>\n",
       "      <td>0.030303</td>\n",
       "      <td>0.033957</td>\n",
       "      <td>-1.768290e-01</td>\n",
       "    </tr>\n",
       "    <tr>\n",
       "      <th>Rain</th>\n",
       "      <td>-0.032159</td>\n",
       "      <td>-1.122654e-01</td>\n",
       "      <td>3.532207e-02</td>\n",
       "      <td>NaN</td>\n",
       "      <td>-0.326786</td>\n",
       "      <td>0.222968</td>\n",
       "      <td>0.170169</td>\n",
       "      <td>1.000000</td>\n",
       "      <td>-0.544045</td>\n",
       "      <td>-0.288548</td>\n",
       "      <td>-0.296804</td>\n",
       "      <td>-0.347862</td>\n",
       "      <td>-0.299409</td>\n",
       "      <td>-0.324755</td>\n",
       "      <td>-4.108006e-02</td>\n",
       "    </tr>\n",
       "    <tr>\n",
       "      <th>FFMC</th>\n",
       "      <td>0.229225</td>\n",
       "      <td>2.240321e-01</td>\n",
       "      <td>1.557668e-02</td>\n",
       "      <td>NaN</td>\n",
       "      <td>0.677491</td>\n",
       "      <td>-0.645658</td>\n",
       "      <td>-0.163255</td>\n",
       "      <td>-0.544045</td>\n",
       "      <td>1.000000</td>\n",
       "      <td>0.602391</td>\n",
       "      <td>0.503910</td>\n",
       "      <td>0.740751</td>\n",
       "      <td>0.590251</td>\n",
       "      <td>0.691430</td>\n",
       "      <td>2.246798e-01</td>\n",
       "    </tr>\n",
       "    <tr>\n",
       "      <th>DMC</th>\n",
       "      <td>0.258296</td>\n",
       "      <td>4.915710e-01</td>\n",
       "      <td>6.817778e-02</td>\n",
       "      <td>NaN</td>\n",
       "      <td>0.483105</td>\n",
       "      <td>-0.405133</td>\n",
       "      <td>-0.001246</td>\n",
       "      <td>-0.288548</td>\n",
       "      <td>0.602391</td>\n",
       "      <td>1.000000</td>\n",
       "      <td>0.875358</td>\n",
       "      <td>0.678355</td>\n",
       "      <td>0.982206</td>\n",
       "      <td>0.875191</td>\n",
       "      <td>1.910937e-01</td>\n",
       "    </tr>\n",
       "    <tr>\n",
       "      <th>DC</th>\n",
       "      <td>0.054404</td>\n",
       "      <td>5.279285e-01</td>\n",
       "      <td>1.276719e-01</td>\n",
       "      <td>NaN</td>\n",
       "      <td>0.370498</td>\n",
       "      <td>-0.220330</td>\n",
       "      <td>0.076245</td>\n",
       "      <td>-0.296804</td>\n",
       "      <td>0.503910</td>\n",
       "      <td>0.875358</td>\n",
       "      <td>1.000000</td>\n",
       "      <td>0.503919</td>\n",
       "      <td>0.941672</td>\n",
       "      <td>0.737041</td>\n",
       "      <td>-8.148947e-02</td>\n",
       "    </tr>\n",
       "    <tr>\n",
       "      <th>ISI</th>\n",
       "      <td>0.283137</td>\n",
       "      <td>1.793008e-01</td>\n",
       "      <td>6.354476e-02</td>\n",
       "      <td>NaN</td>\n",
       "      <td>0.605971</td>\n",
       "      <td>-0.688268</td>\n",
       "      <td>0.012245</td>\n",
       "      <td>-0.347862</td>\n",
       "      <td>0.740751</td>\n",
       "      <td>0.678355</td>\n",
       "      <td>0.503919</td>\n",
       "      <td>1.000000</td>\n",
       "      <td>0.641351</td>\n",
       "      <td>0.922422</td>\n",
       "      <td>2.662977e-01</td>\n",
       "    </tr>\n",
       "    <tr>\n",
       "      <th>BUI</th>\n",
       "      <td>0.180165</td>\n",
       "      <td>5.172239e-01</td>\n",
       "      <td>8.556743e-02</td>\n",
       "      <td>NaN</td>\n",
       "      <td>0.456415</td>\n",
       "      <td>-0.349685</td>\n",
       "      <td>0.030303</td>\n",
       "      <td>-0.299409</td>\n",
       "      <td>0.590251</td>\n",
       "      <td>0.982206</td>\n",
       "      <td>0.941672</td>\n",
       "      <td>0.641351</td>\n",
       "      <td>1.000000</td>\n",
       "      <td>0.856912</td>\n",
       "      <td>8.799645e-02</td>\n",
       "    </tr>\n",
       "    <tr>\n",
       "      <th>FWI</th>\n",
       "      <td>0.253889</td>\n",
       "      <td>3.502343e-01</td>\n",
       "      <td>8.173226e-02</td>\n",
       "      <td>NaN</td>\n",
       "      <td>0.566839</td>\n",
       "      <td>-0.580457</td>\n",
       "      <td>0.033957</td>\n",
       "      <td>-0.324755</td>\n",
       "      <td>0.691430</td>\n",
       "      <td>0.875191</td>\n",
       "      <td>0.737041</td>\n",
       "      <td>0.922422</td>\n",
       "      <td>0.856912</td>\n",
       "      <td>1.000000</td>\n",
       "      <td>1.984738e-01</td>\n",
       "    </tr>\n",
       "    <tr>\n",
       "      <th>Region</th>\n",
       "      <td>0.869517</td>\n",
       "      <td>4.662229e-16</td>\n",
       "      <td>-9.586232e-17</td>\n",
       "      <td>NaN</td>\n",
       "      <td>0.273496</td>\n",
       "      <td>-0.406424</td>\n",
       "      <td>-0.176829</td>\n",
       "      <td>-0.041080</td>\n",
       "      <td>0.224680</td>\n",
       "      <td>0.191094</td>\n",
       "      <td>-0.081489</td>\n",
       "      <td>0.266298</td>\n",
       "      <td>0.087996</td>\n",
       "      <td>0.198474</td>\n",
       "      <td>1.000000e+00</td>\n",
       "    </tr>\n",
       "  </tbody>\n",
       "</table>\n",
       "</div>"
      ],
      "text/plain": [
       "                index           day         month  year  Temperature  \\\n",
       "index        1.000000  1.234134e-01  4.782196e-01   NaN     0.219836   \n",
       "day          0.123413  1.000000e+00  2.232788e-17   NaN     0.095772   \n",
       "month        0.478220  2.232788e-17  1.000000e+00   NaN    -0.059017   \n",
       "year              NaN           NaN           NaN   NaN          NaN   \n",
       "Temperature  0.219836  9.577222e-02 -5.901677e-02   NaN     1.000000   \n",
       "RH          -0.380075 -7.420934e-02 -3.788419e-02   NaN    -0.654443   \n",
       "Ws          -0.168174  4.700086e-02 -4.144673e-02   NaN    -0.278132   \n",
       "Rain        -0.032159 -1.122654e-01  3.532207e-02   NaN    -0.326786   \n",
       "FFMC         0.229225  2.240321e-01  1.557668e-02   NaN     0.677491   \n",
       "DMC          0.258296  4.915710e-01  6.817778e-02   NaN     0.483105   \n",
       "DC           0.054404  5.279285e-01  1.276719e-01   NaN     0.370498   \n",
       "ISI          0.283137  1.793008e-01  6.354476e-02   NaN     0.605971   \n",
       "BUI          0.180165  5.172239e-01  8.556743e-02   NaN     0.456415   \n",
       "FWI          0.253889  3.502343e-01  8.173226e-02   NaN     0.566839   \n",
       "Region       0.869517  4.662229e-16 -9.586232e-17   NaN     0.273496   \n",
       "\n",
       "                   RH        Ws      Rain      FFMC       DMC        DC  \\\n",
       "index       -0.380075 -0.168174 -0.032159  0.229225  0.258296  0.054404   \n",
       "day         -0.074209  0.047001 -0.112265  0.224032  0.491571  0.527929   \n",
       "month       -0.037884 -0.041447  0.035322  0.015577  0.068178  0.127672   \n",
       "year              NaN       NaN       NaN       NaN       NaN       NaN   \n",
       "Temperature -0.654443 -0.278132 -0.326786  0.677491  0.483105  0.370498   \n",
       "RH           1.000000  0.236084  0.222968 -0.645658 -0.405133 -0.220330   \n",
       "Ws           0.236084  1.000000  0.170169 -0.163255 -0.001246  0.076245   \n",
       "Rain         0.222968  0.170169  1.000000 -0.544045 -0.288548 -0.296804   \n",
       "FFMC        -0.645658 -0.163255 -0.544045  1.000000  0.602391  0.503910   \n",
       "DMC         -0.405133 -0.001246 -0.288548  0.602391  1.000000  0.875358   \n",
       "DC          -0.220330  0.076245 -0.296804  0.503910  0.875358  1.000000   \n",
       "ISI         -0.688268  0.012245 -0.347862  0.740751  0.678355  0.503919   \n",
       "BUI         -0.349685  0.030303 -0.299409  0.590251  0.982206  0.941672   \n",
       "FWI         -0.580457  0.033957 -0.324755  0.691430  0.875191  0.737041   \n",
       "Region      -0.406424 -0.176829 -0.041080  0.224680  0.191094 -0.081489   \n",
       "\n",
       "                  ISI       BUI       FWI        Region  \n",
       "index        0.283137  0.180165  0.253889  8.695173e-01  \n",
       "day          0.179301  0.517224  0.350234  4.662229e-16  \n",
       "month        0.063545  0.085567  0.081732 -9.586232e-17  \n",
       "year              NaN       NaN       NaN           NaN  \n",
       "Temperature  0.605971  0.456415  0.566839  2.734961e-01  \n",
       "RH          -0.688268 -0.349685 -0.580457 -4.064239e-01  \n",
       "Ws           0.012245  0.030303  0.033957 -1.768290e-01  \n",
       "Rain        -0.347862 -0.299409 -0.324755 -4.108006e-02  \n",
       "FFMC         0.740751  0.590251  0.691430  2.246798e-01  \n",
       "DMC          0.678355  0.982206  0.875191  1.910937e-01  \n",
       "DC           0.503919  0.941672  0.737041 -8.148947e-02  \n",
       "ISI          1.000000  0.641351  0.922422  2.662977e-01  \n",
       "BUI          0.641351  1.000000  0.856912  8.799645e-02  \n",
       "FWI          0.922422  0.856912  1.000000  1.984738e-01  \n",
       "Region       0.266298  0.087996  0.198474  1.000000e+00  "
      ]
     },
     "execution_count": 90,
     "metadata": {},
     "output_type": "execute_result"
    }
   ],
   "source": [
    "data.corr()"
   ]
  },
  {
   "cell_type": "code",
   "execution_count": 95,
   "id": "49032858",
   "metadata": {},
   "outputs": [
    {
     "data": {
      "text/plain": [
       "<AxesSubplot:>"
      ]
     },
     "execution_count": 95,
     "metadata": {},
     "output_type": "execute_result"
    },
    {
     "data": {
      "image/png": "[encoded data removed]",
      "text/plain": [
       "<Figure size 1080x1080 with 2 Axes>"
      ]
     },
     "metadata": {
      "needs_background": "light"
     },
     "output_type": "display_data"
    }
   ],
   "source": [
    "DATA=data[[fea for fea in numerical_features if fea not in ['day', 'month', 'year', 'index']]].corr()\n",
    "plt.figure(figsize=(15, 15))\n",
    "sns.heatmap(DATA)"
   ]
  },
  {
   "cell_type": "code",
   "execution_count": 36,
   "id": "e63fd311",
   "metadata": {},
   "outputs": [
    {
     "data": {
      "text/plain": [
       "Index(['index', 'day', 'month', 'year', 'Temperature', 'RH', 'Ws', 'Rain',\n",
       "       'FFMC', 'DMC', 'DC', 'ISI', 'BUI', 'FWI', 'Classes', 'Region'],\n",
       "      dtype='object')"
      ]
     },
     "execution_count": 36,
     "metadata": {},
     "output_type": "execute_result"
    }
   ],
   "source": [
    "data.columns"
   ]
  },
  {
   "cell_type": "code",
   "execution_count": 39,
   "id": "75ada44a",
   "metadata": {},
   "outputs": [
    {
     "data": {
      "text/plain": [
       "<AxesSubplot:xlabel='month', ylabel='count'>"
      ]
     },
     "execution_count": 39,
     "metadata": {},
     "output_type": "execute_result"
    },
    {
     "data": {
      "image/png": "[encoded data removed]",
      "text/plain": [
       "<Figure size 432x288 with 1 Axes>"
      ]
     },
     "metadata": {
      "needs_background": "light"
     },
     "output_type": "display_data"
    }
   ],
   "source": [
    "sns.countplot(data=data,x='month',hue='Classes')"
   ]
  },
  {
   "cell_type": "code",
   "execution_count": 88,
   "id": "509c1cf2",
   "metadata": {},
   "outputs": [
    {
     "data": {
      "image/png": "[encoded data removed]",
      "text/plain": [
       "<Figure size 432x288 with 1 Axes>"
      ]
     },
     "metadata": {
      "needs_background": "light"
     },
     "output_type": "display_data"
    },
    {
     "data": {
      "image/png": "[encoded data removed]",
      "text/plain": [
       "<Figure size 432x288 with 1 Axes>"
      ]
     },
     "metadata": {
      "needs_background": "light"
     },
     "output_type": "display_data"
    },
    {
     "data": {
      "image/png": "[encoded data removed]",
      "text/plain": [
       "<Figure size 432x288 with 1 Axes>"
      ]
     },
     "metadata": {
      "needs_background": "light"
     },
     "output_type": "display_data"
    },
    {
     "data": {
      "image/png": "[encoded data removed]",
      "text/plain": [
       "<Figure size 432x288 with 1 Axes>"
      ]
     },
     "metadata": {
      "needs_background": "light"
     },
     "output_type": "display_data"
    },
    {
     "data": {
      "image/png": "[encoded data removed]",
      "text/plain": [
       "<Figure size 432x288 with 1 Axes>"
      ]
     },
     "metadata": {
      "needs_background": "light"
     },
     "output_type": "display_data"
    },
    {
     "data": {
      "image/png": "[encoded data removed]",
      "text/plain": [
       "<Figure size 432x288 with 1 Axes>"
      ]
     },
     "metadata": {
      "needs_background": "light"
     },
     "output_type": "display_data"
    },
    {
     "data": {
      "image/png": "[encoded data removed]",
      "text/plain": [
       "<Figure size 432x288 with 1 Axes>"
      ]
     },
     "metadata": {
      "needs_background": "light"
     },
     "output_type": "display_data"
    },
    {
     "data": {
      "image/png": "[encoded data removed]",
      "text/plain": [
       "<Figure size 432x288 with 1 Axes>"
      ]
     },
     "metadata": {
      "needs_background": "light"
     },
     "output_type": "display_data"
    },
    {
     "data": {
      "image/png": "[encoded data removed]",
      "text/plain": [
       "<Figure size 432x288 with 1 Axes>"
      ]
     },
     "metadata": {
      "needs_background": "light"
     },
     "output_type": "display_data"
    }
   ],
   "source": [
    "for i in continous_feature:\n",
    "    sns.boxplot(data=data,x=i,hue='Classes')\n",
    "    plt.show()"
   ]
  },
  {
   "cell_type": "markdown",
   "id": "57c1e4a4",
   "metadata": {},
   "source": [
    "## FINAL REPORT"
   ]
  },
  {
   "cell_type": "markdown",
   "id": "d290c3d0",
   "metadata": {},
   "source": [
    "# Observation on univariate analysis\n",
    " \n",
    "1. Relative Humidity is following gaussian distribution.\n",
    "2. Rain , DMC , DC, ISI , BUI , FWI are following right skewed distribution(log-Normal-distribution)\n",
    "3. FFMC feature following left skewed distribution.\n",
    " \n",
    "# Obersvation on bivariate analysis \n",
    " \n",
    "1. Day vs Classes : almost everday the occurance of fire is visible, and the count of fire is greater or equal to not fire count.\n",
    "2. Month vs Classes : Occurance of fire is high in July and August, as compare to June and september. \n",
    "3. Year vs Classes : Occurance of fire is high in 2012.\n",
    "4. Temperature vs Classes : If the Temperature in between in 36 to 37. then there is high chances for fire occured. \n",
    "5. Ws(Wind speed) vs Classes : if the Wind speed in between 13 to 19. then there is high chances for fire occured.\n",
    "6. Region vs Classes : Sidi Bel abbes region has more fire casses.\n",
    " \n",
    "# Obesrvation on Outlier \n",
    " \n",
    "Feature having outlier : Rain , FFMC ,DMC , DC, ISI, BUI, FWI\n",
    " \n",
    "# Obesrvation Heat map\n",
    "\n",
    "1. correlation coefficients between 0.8 to to 1 | very high correlated.\n",
    "2. correlation coefficients between 0.6 to 0.8  | high correlated.\n",
    "3. correlation coefficients between 0.4 to 0.6  | modreate correlated. \n",
    "4. correlation coefficients between 0.2 to 0.4  | less correalted. \n",
    " \n",
    "## Very High Correlated :  DMC-BUI , DC-BUI , FWI- BUI\n",
    "## High correlated  :  FFMC-BUI , ISI-BUI, DC-ISI"
   ]
  },
  {
   "cell_type": "code",
   "execution_count": null,
   "id": "42a9443d",
   "metadata": {},
   "outputs": [],
   "source": []
  },
  {
   "cell_type": "code",
   "execution_count": null,
   "id": "d0abc30e",
   "metadata": {},
   "outputs": [],
   "source": []
  },
  {
   "cell_type": "code",
   "execution_count": null,
   "id": "2999265a",
   "metadata": {},
   "outputs": [],
   "source": []
  },
  {
   "cell_type": "code",
   "execution_count": null,
   "id": "dd6877fa",
   "metadata": {},
   "outputs": [],
   "source": []
  },
  {
   "cell_type": "code",
   "execution_count": null,
   "id": "110c1143",
   "metadata": {},
   "outputs": [],
   "source": []
  },
  {
   "cell_type": "code",
   "execution_count": null,
   "id": "fefe8261",
   "metadata": {},
   "outputs": [],
   "source": []
  },
  {
   "cell_type": "code",
   "execution_count": null,
   "id": "e4a23501",
   "metadata": {},
   "outputs": [],
   "source": []
  },
  {
   "cell_type": "code",
   "execution_count": null,
   "id": "5b65385a",
   "metadata": {},
   "outputs": [],
   "source": []
  },
  {
   "cell_type": "code",
   "execution_count": null,
   "id": "69584546",
   "metadata": {},
   "outputs": [],
   "source": []
  },
  {
   "cell_type": "code",
   "execution_count": null,
   "id": "9b5a7529",
   "metadata": {},
   "outputs": [],
   "source": []
  },
  {
   "cell_type": "code",
   "execution_count": null,
   "id": "2fc6a3bc",
   "metadata": {},
   "outputs": [],
   "source": []
  },
  {
   "cell_type": "code",
   "execution_count": null,
   "id": "f95b2292",
   "metadata": {},
   "outputs": [],
   "source": []
  },
  {
   "cell_type": "code",
   "execution_count": null,
   "id": "9dda909c",
   "metadata": {},
   "outputs": [],
   "source": []
  },
  {
   "cell_type": "code",
   "execution_count": null,
   "id": "52cfd050",
   "metadata": {},
   "outputs": [],
   "source": []
  },
  {
   "cell_type": "code",
   "execution_count": null,
   "id": "59597ec2",
   "metadata": {},
   "outputs": [],
   "source": []
  },
  {
   "cell_type": "code",
   "execution_count": null,
   "id": "a7729e82",
   "metadata": {},
   "outputs": [],
   "source": []
  },
  {
   "cell_type": "code",
   "execution_count": null,
   "id": "6b7bc52f",
   "metadata": {},
   "outputs": [],
   "source": []
  },
  {
   "cell_type": "code",
   "execution_count": null,
   "id": "63e42d4e",
   "metadata": {},
   "outputs": [],
   "source": []
  },
  {
   "cell_type": "code",
   "execution_count": null,
   "id": "2fbce1ec",
   "metadata": {},
   "outputs": [],
   "source": []
  },
  {
   "cell_type": "code",
   "execution_count": null,
   "id": "0011dc3f",
   "metadata": {},
   "outputs": [],
   "source": []
  },
  {
   "cell_type": "code",
   "execution_count": null,
   "id": "75fc92dc",
   "metadata": {},
   "outputs": [],
   "source": []
  },
  {
   "cell_type": "code",
   "execution_count": null,
   "id": "0681b7a6",
   "metadata": {},
   "outputs": [],
   "source": []
  },
  {
   "cell_type": "code",
   "execution_count": null,
   "id": "55a7717c",
   "metadata": {},
   "outputs": [],
   "source": []
  },
  {
   "cell_type": "code",
   "execution_count": null,
   "id": "c63fbbb8",
   "metadata": {},
   "outputs": [],
   "source": []
  },
  {
   "cell_type": "code",
   "execution_count": null,
   "id": "50f94a35",
   "metadata": {},
   "outputs": [],
   "source": []
  },
  {
   "cell_type": "code",
   "execution_count": null,
   "id": "5e3666e5",
   "metadata": {},
   "outputs": [],
   "source": []
  },
  {
   "cell_type": "code",
   "execution_count": null,
   "id": "33d00b04",
   "metadata": {},
   "outputs": [],
   "source": []
  },
  {
   "cell_type": "code",
   "execution_count": null,
   "id": "59ace44f",
   "metadata": {},
   "outputs": [],
   "source": []
  },
  {
   "cell_type": "code",
   "execution_count": null,
   "id": "48d61aa0",
   "metadata": {},
   "outputs": [],
   "source": []
  },
  {
   "cell_type": "code",
   "execution_count": null,
   "id": "9b53cd3c",
   "metadata": {},
   "outputs": [],
   "source": []
  },
  {
   "cell_type": "code",
   "execution_count": null,
   "id": "09b71a9e",
   "metadata": {},
   "outputs": [],
   "source": []
  },
  {
   "cell_type": "code",
   "execution_count": null,
   "id": "c177c806",
   "metadata": {},
   "outputs": [],
   "source": []
  },
  {
   "cell_type": "code",
   "execution_count": null,
   "id": "070a9058",
   "metadata": {},
   "outputs": [],
   "source": []
  },
  {
   "cell_type": "code",
   "execution_count": null,
   "id": "6199cadb",
   "metadata": {},
   "outputs": [],
   "source": []
  },
  {
   "cell_type": "code",
   "execution_count": null,
   "id": "cc31724b",
   "metadata": {},
   "outputs": [],
   "source": []
  },
  {
   "cell_type": "code",
   "execution_count": null,
   "id": "5fcf6ade",
   "metadata": {},
   "outputs": [],
   "source": []
  },
  {
   "cell_type": "code",
   "execution_count": null,
   "id": "fac3d763",
   "metadata": {},
   "outputs": [],
   "source": []
  },
  {
   "cell_type": "code",
   "execution_count": null,
   "id": "b4a82185",
   "metadata": {},
   "outputs": [],
   "source": []
  },
  {
   "cell_type": "code",
   "execution_count": null,
   "id": "6559275e",
   "metadata": {},
   "outputs": [],
   "source": []
  },
  {
   "cell_type": "code",
   "execution_count": null,
   "id": "3aa24b6f",
   "metadata": {},
   "outputs": [],
   "source": []
  },
  {
   "cell_type": "code",
   "execution_count": null,
   "id": "05529d83",
   "metadata": {},
   "outputs": [],
   "source": []
  },
  {
   "cell_type": "code",
   "execution_count": null,
   "id": "74498349",
   "metadata": {},
   "outputs": [],
   "source": []
  },
  {
   "cell_type": "code",
   "execution_count": null,
   "id": "b8f36804",
   "metadata": {},
   "outputs": [],
   "source": []
  },
  {
   "cell_type": "code",
   "execution_count": null,
   "id": "acf3acef",
   "metadata": {},
   "outputs": [],
   "source": []
  },
  {
   "cell_type": "code",
   "execution_count": null,
   "id": "7db31df0",
   "metadata": {},
   "outputs": [],
   "source": []
  },
  {
   "cell_type": "code",
   "execution_count": null,
   "id": "943b259a",
   "metadata": {},
   "outputs": [],
   "source": []
  },
  {
   "cell_type": "code",
   "execution_count": null,
   "id": "661f2e31",
   "metadata": {},
   "outputs": [],
   "source": []
  },
  {
   "cell_type": "code",
   "execution_count": null,
   "id": "d0eb5233",
   "metadata": {},
   "outputs": [],
   "source": []
  },
  {
   "cell_type": "code",
   "execution_count": null,
   "id": "a88afd14",
   "metadata": {},
   "outputs": [],
   "source": []
  },
  {
   "cell_type": "code",
   "execution_count": null,
   "id": "f5bd7bbc",
   "metadata": {},
   "outputs": [],
   "source": []
  },
  {
   "cell_type": "code",
   "execution_count": null,
   "id": "5f9260a8",
   "metadata": {},
   "outputs": [],
   "source": []
  },
  {
   "cell_type": "code",
   "execution_count": null,
   "id": "8a5ac40f",
   "metadata": {},
   "outputs": [],
   "source": []
  },
  {
   "cell_type": "code",
   "execution_count": null,
   "id": "03d18f3d",
   "metadata": {},
   "outputs": [],
   "source": []
  },
  {
   "cell_type": "code",
   "execution_count": null,
   "id": "bab0d932",
   "metadata": {},
   "outputs": [],
   "source": []
  },
  {
   "cell_type": "code",
   "execution_count": null,
   "id": "925982f5",
   "metadata": {},
   "outputs": [],
   "source": []
  },
  {
   "cell_type": "code",
   "execution_count": null,
   "id": "06a62430",
   "metadata": {},
   "outputs": [],
   "source": []
  },
  {
   "cell_type": "code",
   "execution_count": null,
   "id": "130bd146",
   "metadata": {},
   "outputs": [],
   "source": []
  }
 ],
 "metadata": {
  "kernelspec": {
   "display_name": "Python 3 (ipykernel)",
   "language": "python",
   "name": "python3"
  },
  "language_info": {
   "codemirror_mode": {
    "name": "ipython",
    "version": 3
   },
   "file_extension": ".py",
   "mimetype": "text/x-python",
   "name": "python",
   "nbconvert_exporter": "python",
   "pygments_lexer": "ipython3",
   "version": "3.9.12"
  }
 },
 "nbformat": 4,
 "nbformat_minor": 5
}
